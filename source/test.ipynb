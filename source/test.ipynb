{
 "cells": [
  {
   "cell_type": "code",
   "execution_count": 1,
   "metadata": {
    "collapsed": false
   },
   "outputs": [
    {
     "name": "stdout",
     "output_type": "stream",
     "text": [
      "[100, 28, 28]\n",
      "[100, 28, 28]\n",
      "(100L, 100L)\n",
      "IncrementalPCA(batch_size=None, copy=True, n_components=100, whiten=False)\n",
      "[100]\n",
      "[100]\n",
      "**********USING KD-TREE**********\n",
      "Training time for 100 instances: 0:0:0'1.65926253681\"\n",
      "Accuracy: 0.67\n",
      "Testing time for 100 instances: 0:0:0'698.543206999\"\n",
      "\n",
      "**********USING EXHAUSTIVE-SEARCH**********\n",
      "Training time for 100 instances: 0:0:0'0.0999508147176\"\n",
      "Accuracy: 0.67\n",
      "Testing time for 100 instances: 0:0:0'581.789988721\"\n"
     ]
    },
    {
     "name": "stderr",
     "output_type": "stream",
     "text": [
      "C:\\Users\\nafis\\Anaconda2\\lib\\site-packages\\sklearn\\decomposition\\incremental_pca.py:261: RuntimeWarning: Mean of empty slice.\n",
      "  explained_variance[self.n_components_:].mean()\n",
      "C:\\Users\\nafis\\Anaconda2\\lib\\site-packages\\numpy\\core\\_methods.py:80: RuntimeWarning: invalid value encountered in double_scalars\n",
      "  ret = ret.dtype.type(ret / rcount)\n"
     ]
    }
   ],
   "source": [
    "!python speed_test.py 100 100"
   ]
  },
  {
   "cell_type": "code",
   "execution_count": 2,
   "metadata": {
    "collapsed": false
   },
   "outputs": [
    {
     "name": "stdout",
     "output_type": "stream",
     "text": [
      "[500, 28, 28]\n",
      "[500, 28, 28]\n",
      "(500L, 100L)\n",
      "IncrementalPCA(batch_size=None, copy=True, n_components=100, whiten=False)\n",
      "[500]\n",
      "[500]\n",
      "**********USING KD-TREE**********\n",
      "Training time for 500 instances: 0:0:0'4.93867642208\"\n",
      "Accuracy: 0.81\n",
      "Testing time for 500 instances: 0:0:15'770.183052213\"\n",
      "\n",
      "**********USING EXHAUSTIVE-SEARCH**********\n",
      "Training time for 500 instances: 0:0:0'0.697680390479\"\n",
      "Accuracy: 0.81\n",
      "Testing time for 500 instances: 0:0:15'644.357618484\"\n"
     ]
    }
   ],
   "source": [
    "!python speed_test.py 500 500"
   ]
  },
  {
   "cell_type": "code",
   "execution_count": 3,
   "metadata": {
    "collapsed": false
   },
   "outputs": [
    {
     "name": "stdout",
     "output_type": "stream",
     "text": [
      "[1000, 28, 28]\n",
      "[1000, 28, 28]\n",
      "(1000L, 100L)\n",
      "IncrementalPCA(batch_size=None, copy=True, n_components=100, whiten=False)\n",
      "[1000]\n",
      "[1000]\n",
      "**********USING KD-TREE**********\n",
      "Training time for 1000 instances: 0:0:0'12.0525670174\"\n",
      "Accuracy: 0.836\n",
      "Testing time for 1000 instances: 0:1:1'602.544597619\"\n",
      "\n",
      "**********USING EXHAUSTIVE-SEARCH**********\n",
      "Training time for 1000 instances: 0:0:0'1.33807671719\"\n",
      "Accuracy: 0.836\n",
      "Testing time for 1000 instances: 0:1:5'229.758478535\"\n"
     ]
    }
   ],
   "source": [
    "!python speed_test.py 1000 1000"
   ]
  },
  {
   "cell_type": "code",
   "execution_count": null,
   "metadata": {
    "collapsed": true
   },
   "outputs": [],
   "source": []
  }
 ],
 "metadata": {
  "kernelspec": {
   "display_name": "Python [Root]",
   "language": "python",
   "name": "Python [Root]"
  },
  "language_info": {
   "codemirror_mode": {
    "name": "ipython",
    "version": 2
   },
   "file_extension": ".py",
   "mimetype": "text/x-python",
   "name": "python",
   "nbconvert_exporter": "python",
   "pygments_lexer": "ipython2",
   "version": "2.7.12"
  }
 },
 "nbformat": 4,
 "nbformat_minor": 0
}
